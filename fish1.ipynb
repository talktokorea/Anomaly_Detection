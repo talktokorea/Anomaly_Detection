{
  "nbformat": 4,
  "nbformat_minor": 0,
  "metadata": {
    "colab": {
      "name": "fish1.ipynb",
      "private_outputs": true,
      "provenance": [],
      "collapsed_sections": [],
      "authorship_tag": "ABX9TyODft/JJCifXiROAxaRaLUA",
      "include_colab_link": true
    },
    "kernelspec": {
      "name": "python3",
      "display_name": "Python 3"
    },
    "language_info": {
      "name": "python"
    }
  },
  "cells": [
    {
      "cell_type": "markdown",
      "metadata": {
        "id": "view-in-github",
        "colab_type": "text"
      },
      "source": [
        "<a href=\"https://colab.research.google.com/github/talktokorea/Anomaly_Detection/blob/main/fish1.ipynb\" target=\"_parent\"><img src=\"https://colab.research.google.com/assets/colab-badge.svg\" alt=\"Open In Colab\"/></a>"
      ]
    },
    {
      "cell_type": "code",
      "execution_count": null,
      "metadata": {
        "id": "sjxtl6pZxPWN"
      },
      "outputs": [],
      "source": [
        "# 구글 드라이브 연동\n",
        "#구글 드라이브를 코랩에 마운트 Mount Google Drive\n",
        "from google.colab import drive     # import drive from google colab\n",
        "ROOT=\"/content/drive\"                # root directory\n",
        "drive.mount(ROOT)                     # mount google drive at ROOT= /content/drive\n",
        "PROJECT_PATH = \"/content/drive/MyDrive/Colab Notebooks/storage\"\n",
        "%cd {PROJECT_PATH}\n",
        "%pwd"
      ]
    },
    {
      "cell_type": "code",
      "source": [
        "# matplotlib 사용/버전 확인    https://matplotlib.org/stable/users/installing/index.html\n",
        "import matplotlib                      # matplotlib을 import\n",
        "matplotlib.__version__             # version"
      ],
      "metadata": {
        "id": "Ncb7RUTdxePc"
      },
      "execution_count": null,
      "outputs": []
    },
    {
      "cell_type": "code",
      "source": [
        " # 0. 판다스 라이브러리 임포트\n",
        "import  pandas  as  pd\n",
        "# 1. github 데이터 읽기\n",
        "path = \"https://raw.githubusercontent.com/talktokorea/storage/master/fish.csv\"\n",
        "fish = pd.read_csv(path)\n",
        "# 2. 데이터 모양/속성 확인      (150,5)\n",
        "print(fish.shape)      \n",
        "\n",
        "# 3. 컬럼명 확인 Index(['sepal-length','sepal-width','petal-length','petal-width'], dtype='object')\n",
        "print(fish.columns)\n",
        "\n",
        "# 4. 원핫인코딩 Index(['sepal-length', 'sepal-width', 'petal-length', 'petal-width', 'category_Iris-setosa', 'category_Iris-versicolor','category_Iris-virginica'],dtype='object')\n",
        "fish = pd.get_dummies(fish)\n",
        "print(fish.columns)\n",
        "\n",
        "# 5. 독립/종속변수 분리            (150,4)  (150,3)\n",
        "xdata = fish[[\"length\",\"weight\"]]\n",
        "ydata = fish[[\"fishname_Bream\",\"fishname_Smelt\"]]\n",
        "print(xdata.shape,ydata.shape)\n",
        "# 6. 마지막 데이터 5개 확인                       마지막 데이터 5개\n",
        "fish.tail()\n",
        "# fish.head()                        최초 데이터 5개"
      ],
      "metadata": {
        "id": "AB_jupdSxjV9"
      },
      "execution_count": null,
      "outputs": []
    }
  ]
}